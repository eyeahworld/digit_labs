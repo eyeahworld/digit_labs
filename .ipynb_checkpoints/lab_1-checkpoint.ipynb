{
 "cells": [
  {
   "cell_type": "code",
   "execution_count": 1,
   "id": "e30e38da",
   "metadata": {},
   "outputs": [
    {
     "name": "stdout",
     "output_type": "stream",
     "text": [
      "Матрица 1:\n",
      "[[0 7 8]\n",
      " [6 5 6]\n",
      " [4 9 6]]\n",
      "\n",
      "Матрица 2:\n",
      "[[3 7 9]\n",
      " [0 5 7]\n",
      " [5 0 9]]\n",
      "\n",
      "Общие элементы в матрицах:\n",
      "[0 5 7 9]\n"
     ]
    }
   ],
   "source": [
    "import numpy as np\n",
    "\n",
    "# Создание двух матриц с случайными элементами\n",
    "matrix1 = np.random.randint(0, 10, size=(3, 3))  # Пример: матрица 3x3 со случайными целыми числами от 0 до 9\n",
    "matrix2 = np.random.randint(0, 10, size=(3, 3))\n",
    "\n",
    "# Вывод матриц\n",
    "print(\"Матрица 1:\")\n",
    "print(matrix1)\n",
    "print(\"\\nМатрица 2:\")\n",
    "print(matrix2)\n",
    "\n",
    "# Поиск одинаковых элементов\n",
    "common_elements = np.intersect1d(matrix1, matrix2)\n",
    "\n",
    "if common_elements.size > 0:\n",
    "    print(\"\\nОбщие элементы в матрицах:\")\n",
    "    print(common_elements)\n",
    "else:\n",
    "    print(\"\\nВ матрицах нет общих элементов.\")\n"
   ]
  },
  {
   "cell_type": "code",
   "execution_count": null,
   "id": "69c4c586",
   "metadata": {},
   "outputs": [],
   "source": []
  },
  {
   "cell_type": "code",
   "execution_count": null,
   "id": "2205651d",
   "metadata": {},
   "outputs": [],
   "source": []
  }
 ],
 "metadata": {
  "kernelspec": {
   "display_name": "Python 3 (ipykernel)",
   "language": "python",
   "name": "python3"
  },
  "language_info": {
   "codemirror_mode": {
    "name": "ipython",
    "version": 3
   },
   "file_extension": ".py",
   "mimetype": "text/x-python",
   "name": "python",
   "nbconvert_exporter": "python",
   "pygments_lexer": "ipython3",
   "version": "3.11.5"
  }
 },
 "nbformat": 4,
 "nbformat_minor": 5
}
